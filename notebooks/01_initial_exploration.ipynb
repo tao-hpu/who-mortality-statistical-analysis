{
 "cells": [
  {
   "cell_type": "markdown",
   "metadata": {},
   "source": [
    "# WHO死亡率数据初步探索\n",
    "## MSAI小组项目 - 第一部分"
   ]
  },
  {
   "cell_type": "code",
   "execution_count": null,
   "metadata": {},
   "outputs": [],
   "source": [
    "# 导入必要的库\n",
    "import sys\n",
    "sys.path.append('..')\n",
    "\n",
    "from src.data_processing import WHODataProcessor\n",
    "from src.statistical_analysis import ClassicalStatistics\n",
    "\n",
    "import pandas as pd\n",
    "import numpy as np\n",
    "import matplotlib.pyplot as plt\n",
    "import seaborn as sns\n",
    "\n",
    "# 设置显示参数\n",
    "pd.set_option('display.max_columns', None)\n",
    "sns.set_style('whitegrid')\n",
    "plt.rcParams['figure.figsize'] = (12, 8)\n",
    "plt.rcParams['font.size'] = 10"
   ]
  },
  {
   "cell_type": "markdown",
   "metadata": {},
   "source": [
    "## 1. 数据加载和处理"
   ]
  },
  {
   "cell_type": "code",
   "execution_count": null,
   "metadata": {},
   "outputs": [],
   "source": [
    "# 初始化数据处理器\n",
    "processor = WHODataProcessor('../data/raw/ghe2021_deaths_global_new2.xlsx')\n",
    "\n",
    "# 加载数据\n",
    "raw_data = processor.load_data()\n",
    "print(f\"原始数据形状: {raw_data.shape}\")"
   ]
  },
  {
   "cell_type": "code",
   "execution_count": null,
   "metadata": {},
   "outputs": [],
   "source": [
    "# 处理数据\n",
    "df = processor.process_data()\n",
    "df.head(10)"
   ]
  },
  {
   "cell_type": "markdown",
   "metadata": {},
   "source": [
    "## 2. 数据概览"
   ]
  },
  {
   "cell_type": "code",
   "execution_count": null,
   "metadata": {},
   "outputs": [],
   "source": [
    "# 基本信息\n",
    "print(\"数据集信息:\")\n",
    "print(f\"总记录数: {len(df)}\")\n",
    "print(f\"死因数量: {df['cause_name'].nunique()}\")\n",
    "print(f\"年龄组: {df['age_group'].unique()}\")\n",
    "print(f\"\\n数据类型:\")\n",
    "print(df.dtypes)"
   ]
  },
  {
   "cell_type": "code",
   "execution_count": null,
   "metadata": {},
   "outputs": [],
   "source": [
    "# 缺失值检查\n",
    "print(\"缺失值统计:\")\n",
    "print(df.isnull().sum())"
   ]
  },
  {
   "cell_type": "markdown",
   "metadata": {},
   "source": [
    "## 3. 描述性统计"
   ]
  },
  {
   "cell_type": "code",
   "execution_count": null,
   "metadata": {},
   "outputs": [],
   "source": [
    "# 摘要统计\n",
    "summary = processor.get_summary_stats()\n",
    "\n",
    "print(f\"总死亡人数: {summary['total_deaths']:,.0f}\")\n",
    "print(f\"男性死亡: {summary['male_deaths']:,.0f}\")\n",
    "print(f\"女性死亡: {summary['female_deaths']:,.0f}\")\n",
    "print(f\"\\n男女比例: {summary['male_deaths']/summary['female_deaths']:.2f}\")"
   ]
  },
  {
   "cell_type": "markdown",
   "metadata": {},
   "source": [
    "## 4. 可视化分析"
   ]
  },
  {
   "cell_type": "code",
   "execution_count": null,
   "metadata": {},
   "outputs": [],
   "source": [
    "# Top 10 死因\n",
    "top_causes = df.groupby('cause_name')['both_sexes'].sum().nlargest(10)\n",
    "\n",
    "plt.figure(figsize=(12, 6))\n",
    "top_causes.plot(kind='barh')\n",
    "plt.title('Top 10 Leading Causes of Death (2021)', fontsize=14)\n",
    "plt.xlabel('Number of Deaths (millions)')\n",
    "plt.tight_layout()\n",
    "plt.show()"
   ]
  },
  {
   "cell_type": "code",
   "execution_count": null,
   "metadata": {},
   "outputs": [],
   "source": [
    "# 年龄分布\n",
    "age_dist = df.groupby('age_group')['both_sexes'].sum()\n",
    "\n",
    "plt.figure(figsize=(10, 6))\n",
    "age_dist.plot(kind='bar', color='steelblue')\n",
    "plt.title('Deaths by Age Group', fontsize=14)\n",
    "plt.xlabel('Age Group')\n",
    "plt.ylabel('Number of Deaths')\n",
    "plt.xticks(rotation=45)\n",
    "plt.tight_layout()\n",
    "plt.show()"
   ]
  },
  {
   "cell_type": "code",
   "execution_count": null,
   "metadata": {},
   "outputs": [],
   "source": [
    "# 性别差异热力图\n",
    "gender_ratio = df.pivot_table(\n",
    "    values='male_female_ratio',\n",
    "    index='cause_name',\n",
    "    columns='age_group',\n",
    "    aggfunc='mean'\n",
    ")\n",
    "\n",
    "# 选择top 15死因\n",
    "top_15_causes = df.groupby('cause_name')['both_sexes'].sum().nlargest(15).index\n",
    "gender_ratio_top = gender_ratio.loc[top_15_causes]\n",
    "\n",
    "plt.figure(figsize=(12, 8))\n",
    "sns.heatmap(gender_ratio_top, annot=True, fmt='.2f', cmap='RdBu_r', center=1)\n",
    "plt.title('Male/Female Death Ratio by Cause and Age Group', fontsize=14)\n",
    "plt.tight_layout()\n",
    "plt.show()"
   ]
  },
  {
   "cell_type": "markdown",
   "metadata": {},
   "source": [
    "## 5. 统计检验"
   ]
  },
  {
   "cell_type": "code",
   "execution_count": null,
   "metadata": {},
   "outputs": [],
   "source": [
    "# 运行统计分析\n",
    "stats_analyzer = ClassicalStatistics(df)\n",
    "results = stats_analyzer.run_all_tests()"
   ]
  },
  {
   "cell_type": "markdown",
   "metadata": {},
   "source": [
    "## 6. 结果总结"
   ]
  },
  {
   "cell_type": "code",
   "execution_count": null,
   "metadata": {},
   "outputs": [],
   "source": [
    "# 创建结果总结表\n",
    "summary_table = pd.DataFrame([\n",
    "    {\n",
    "        'Test': 'Gender T-Test',\n",
    "        'Statistic': results['gender_ttest']['t_statistic'],\n",
    "        'P-Value': results['gender_ttest']['p_value'],\n",
    "        'Significant': results['gender_ttest']['significant']\n",
    "    },\n",
    "    {\n",
    "        'Test': 'Age Group ANOVA',\n",
    "        'Statistic': results['age_anova']['f_statistic'],\n",
    "        'P-Value': results['age_anova']['p_value'],\n",
    "        'Significant': results['age_anova']['significant']\n",
    "    },\n",
    "    {\n",
    "        'Test': 'Chi-Square Independence',\n",
    "        'Statistic': results['chi_square']['chi2_statistic'],\n",
    "        'P-Value': results['chi_square']['p_value'],\n",
    "        'Significant': results['chi_square']['significant']\n",
    "    }\n",
    "])\n",
    "\n",
    "print(\"\\n统计检验结果总结:\")\n",
    "print(summary_table.to_string(index=False))"
   ]
  }
 ],
 "metadata": {
  "kernelspec": {
   "display_name": "Python 3",
   "language": "python",
   "name": "python3"
  }
 },
 "nbformat": 4,
 "nbformat_minor": 4
}
